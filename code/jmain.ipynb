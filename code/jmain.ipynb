{
 "cells": [
  {
   "cell_type": "code",
   "id": "initial_id",
   "metadata": {
    "collapsed": true,
    "ExecuteTime": {
     "start_time": "2025-04-18T19:16:19.008506Z"
    }
   },
   "source": [
    "from code.visual import visualization as vs, word_clouds as wd\n",
    "from code.preprocessing import load_data as ld, merge_df as mf\n",
    "from code.computations import evaluation_w2v as ev, clustering as cl, dim_reduction as dm"
   ],
   "outputs": [
    {
     "name": "stderr",
     "output_type": "stream",
     "text": [
      "C:\\BA_thesis\\BA_v2_31.03\\.venv\\lib\\site-packages\\tqdm\\auto.py:21: TqdmWarning: IProgress not found. Please update jupyter and ipywidgets. See https://ipywidgets.readthedocs.io/en/stable/user_install.html\n",
      "  from .autonotebook import tqdm as notebook_tqdm\n"
     ]
    }
   ],
   "execution_count": 1
  },
  {
   "metadata": {},
   "cell_type": "code",
   "outputs": [],
   "execution_count": null,
   "source": [
    "# basic\n",
    "import os\n",
    "import pandas as pd\n",
    "\n",
    "# case_specific\n",
    "import spacy\n",
    "from sklearn.cluster import AgglomerativeClustering\n",
    "from itertools import product\n",
    "from gensim.models import Word2Vec\n",
    "import hdbscan\n",
    "import matplotlib.pyplot as plt"
   ],
   "id": "b8d765ec0a902a86"
  },
  {
   "metadata": {},
   "cell_type": "code",
   "outputs": [],
   "execution_count": null,
   "source": [
    "os.chdir(r\"C:/BA_thesis/BA_v2_31.03\")\n",
    "print(f\"working directory: {os.getcwd()}\")\n",
    "input_path = os.getcwd() + '/files/corpus_data'"
   ],
   "id": "bfe359f16c8e32bd"
  },
  {
   "metadata": {},
   "cell_type": "code",
   "outputs": [],
   "execution_count": null,
   "source": [
    "\"\"\" \n",
    "1) load the data\n",
    "\"\"\"\n",
    "nlp = spacy.load(\"en_core_web_sm\")\n",
    "ld.load_data(dir_with_corpus_files=input_path,\n",
    "             nlp=nlp,\n",
    "             chunksize=40)"
   ],
   "id": "5aadd6f6100f6a1e"
  },
  {
   "metadata": {},
   "cell_type": "code",
   "outputs": [],
   "execution_count": null,
   "source": [
    "\"\"\"\n",
    "2) create corpus\n",
    "\"\"\"\n",
    "corpus = ld.TxtSubdirsCorpus(\"files/dfs\")"
   ],
   "id": "64368d6761f56f61"
  },
  {
   "metadata": {},
   "cell_type": "code",
   "outputs": [],
   "execution_count": null,
   "source": [
    "window = [1, 3]\n",
    "epochs = [100]\n",
    "sg = [0, 1]\n",
    "vector_size = [100]\n",
    "\n",
    "for w, e, s, v in product(window, epochs, sg, vector_size):\n",
    "    print(f'Training of w{w}e{e}sg{s}v{v} haas started.')\n",
    "    model = Word2Vec(\n",
    "        sentences=corpus,\n",
    "        window=w,\n",
    "        min_count=5,\n",
    "        epochs=e,\n",
    "        sg=s,\n",
    "        vector_size=v\n",
    "    )\n",
    "    model.save(f\"files/models/w{w}e{e}sg{s}v{v}.model\")"
   ],
   "id": "c6699eab39e9466f"
  }
 ],
 "metadata": {
  "kernelspec": {
   "display_name": "Python 3",
   "language": "python",
   "name": "python3"
  },
  "language_info": {
   "codemirror_mode": {
    "name": "ipython",
    "version": 2
   },
   "file_extension": ".py",
   "mimetype": "text/x-python",
   "name": "python",
   "nbconvert_exporter": "python",
   "pygments_lexer": "ipython2",
   "version": "2.7.6"
  }
 },
 "nbformat": 4,
 "nbformat_minor": 5
}
