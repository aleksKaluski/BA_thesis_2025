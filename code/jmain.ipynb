{
 "cells": [
  {
   "cell_type": "code",
   "id": "initial_id",
   "metadata": {
    "collapsed": true,
    "ExecuteTime": {
     "end_time": "2025-04-19T18:27:40.251440Z",
     "start_time": "2025-04-19T18:27:40.095232Z"
    }
   },
   "source": "print('hello world')",
   "outputs": [
    {
     "name": "stdout",
     "output_type": "stream",
     "text": [
      "hello world\n"
     ]
    }
   ],
   "execution_count": 91
  },
  {
   "metadata": {
    "ExecuteTime": {
     "end_time": "2025-04-19T18:40:20.325167Z",
     "start_time": "2025-04-19T18:40:20.293925Z"
    }
   },
   "cell_type": "code",
   "source": [
    "\n",
    "import os\n",
    "import pandas as pd\n",
    "from gensim.models import Word2Vec\n",
    "import optuna\n",
    "import spacy\n",
    "from sklearn.cluster import AgglomerativeClustering\n",
    "from itertools import product\n",
    "from gensim.models import Word2Vec\n",
    "import hdbscan\n",
    "import matplotlib.pyplot as plt\n",
    "from pathlib import Path"
   ],
   "id": "ab22a714102ce83c",
   "outputs": [],
   "execution_count": 99
  },
  {
   "metadata": {
    "ExecuteTime": {
     "end_time": "2025-04-19T18:29:03.706138Z",
     "start_time": "2025-04-19T18:29:03.674889Z"
    }
   },
   "cell_type": "code",
   "source": [
    "os.chdir(r\"C:/BA_thesis/BA_v2_31.03\")\n",
    "\n",
    "print(f\"working directory: {os.getcwd()}\")\n",
    "input_path = os.getcwd() + '/files/corpus_data'\n",
    "\n",
    "corpus = ld.TxtSubdirsCorpus(\"files/dfs\")"
   ],
   "id": "fc79c49910394f0",
   "outputs": [
    {
     "name": "stdout",
     "output_type": "stream",
     "text": [
      "working directory: C:\\BA_thesis\\BA_v2_31.03\n",
      "Corpus active! Path: files/dfs \n",
      "\n"
     ]
    }
   ],
   "execution_count": 95
  },
  {
   "metadata": {
    "ExecuteTime": {
     "end_time": "2025-04-19T18:40:28.888747Z",
     "start_time": "2025-04-19T18:40:28.841885Z"
    }
   },
   "cell_type": "code",
   "source": [
    "def iter_large_df(top_dir):\n",
    "    print(f\"\\nIterating documents in {top_dir}...\")\n",
    "    for root, _, files in os.walk(top_dir):\n",
    "        for file in files:\n",
    "            if file.endswith(\".pkl\"):\n",
    "                file_path = os.path.join(root, file)\n",
    "                df = pd.read_pickle(file_path)\n",
    "                for _, row in df.iterrows():\n",
    "                    yield row\n",
    "\n",
    "\n",
    "def merge_df(dir_dfs: str) -> pd.DataFrame:\n",
    "    path = Path(dir_dfs)\n",
    "    assert os.path.exists(path), f\"Provided path {dir_dfs} does not exist\"\n",
    "    assert os.path.isdir(path), f\"Provided path {dir_dfs} is not dir path!\"\n",
    "\n",
    "    gen = iter_large_df(dir_dfs)\n",
    "\n",
    "    # temporary date container\n",
    "    d = []\n",
    "    for r in gen:\n",
    "        d.append([\n",
    "            r[\"clean_text\"],\n",
    "            r[\"semantic_id\"],\n",
    "            r[\"date\"],\n",
    "            r[\"group\"]\n",
    "        ])\n",
    "\n",
    "    df_full = pd.DataFrame(d, columns=[\"clean_text\", \"semantic_id\", \"date\", \"group\"])\n",
    "    print(\"\\nDfs merged sucesfully!\")\n",
    "    return df_full\n"
   ],
   "id": "997baec123ca3978",
   "outputs": [],
   "execution_count": 100
  },
  {
   "metadata": {
    "ExecuteTime": {
     "end_time": "2025-04-19T18:40:38.903427Z",
     "start_time": "2025-04-19T18:40:38.636893Z"
    }
   },
   "cell_type": "code",
   "source": [
    "df = merge_df('files/dfs')\n",
    "df.head"
   ],
   "id": "1761733f21536ebb",
   "outputs": [
    {
     "name": "stdout",
     "output_type": "stream",
     "text": [
      "\n",
      "Iterating documents in files/dfs...\n",
      "\n",
      "Dfs merged sucesfully!\n"
     ]
    },
    {
     "data": {
      "text/plain": [
       "<bound method NDFrame.head of                                              clean_text semantic_id  \\\n",
       "0     [inductive, reasoning, core, component, human,...   254926851   \n",
       "1     [inductive, reasoning, reach, hypothesis, usua...   254926851   \n",
       "2     [overcome, challenge, present, novel, paradigm...   254926851   \n",
       "3     [natural, language, representation, PLMs, reas...   254926851   \n",
       "4     [plant, carnivorous, probably, trap, structure...   254926851   \n",
       "...                                                 ...         ...   \n",
       "1747  [islamic, education, civic, need, consider, as...   254296780   \n",
       "1748  [Integrative, learning, Islamic, Religious, Ed...   254296780   \n",
       "1749  [pai, science, learning, use, mix, integrate, ...   254296780   \n",
       "1750  [crisis, modern, man, light, Masaryk, national...   254294750   \n",
       "1751  [abstract, beginning, thought, Thomas, Garrigu...   254294750   \n",
       "\n",
       "            date       group  \n",
       "0     2022-12-21  psychology  \n",
       "1     2022-12-21  psychology  \n",
       "2     2022-12-21  psychology  \n",
       "3     2022-12-21  psychology  \n",
       "4     2022-12-21  psychology  \n",
       "...          ...         ...  \n",
       "1747  2022-12-01  psychology  \n",
       "1748  2022-12-01  psychology  \n",
       "1749  2022-12-01  psychology  \n",
       "1750  2022-12-01  philosophy  \n",
       "1751  2022-12-01  philosophy  \n",
       "\n",
       "[1752 rows x 4 columns]>"
      ]
     },
     "execution_count": 102,
     "metadata": {},
     "output_type": "execute_result"
    }
   ],
   "execution_count": 102
  },
  {
   "metadata": {},
   "cell_type": "code",
   "outputs": [],
   "execution_count": null,
   "source": [
    "\n",
    "    # add vector represenation to each text\n",
    "    dm.add_document_vector(df, model)\n",
    "\n",
    "    # extract the dimentions for reduction\n",
    "    vec = dm.x_from_df(df, 'vector')\n",
    "\n",
    "    # reduce the dimentions\n",
    "    df = dm.reduce_dimentionality(df_vectors=vec,\n",
    "                                  df_normal=df,\n",
    "                                  rdims=2)"
   ],
   "id": "6e6312cd6adf8126"
  }
 ],
 "metadata": {
  "kernelspec": {
   "display_name": "Python 3",
   "language": "python",
   "name": "python3"
  },
  "language_info": {
   "codemirror_mode": {
    "name": "ipython",
    "version": 2
   },
   "file_extension": ".py",
   "mimetype": "text/x-python",
   "name": "python",
   "nbconvert_exporter": "python",
   "pygments_lexer": "ipython2",
   "version": "2.7.6"
  }
 },
 "nbformat": 4,
 "nbformat_minor": 5
}
