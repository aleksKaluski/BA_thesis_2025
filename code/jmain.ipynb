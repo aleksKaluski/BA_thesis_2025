{
 "cells": [
  {
   "cell_type": "code",
   "id": "initial_id",
   "metadata": {
    "collapsed": true,
    "ExecuteTime": {
     "end_time": "2025-04-19T12:25:10.074493Z",
     "start_time": "2025-04-19T12:25:10.027629Z"
    }
   },
   "source": "print('hello world')",
   "outputs": [
    {
     "name": "stdout",
     "output_type": "stream",
     "text": [
      "hello world\n"
     ]
    }
   ],
   "execution_count": 1
  },
  {
   "metadata": {
    "ExecuteTime": {
     "end_time": "2025-04-19T13:17:36.936616Z",
     "start_time": "2025-04-19T13:17:36.811649Z"
    }
   },
   "cell_type": "code",
   "source": [
    "from code.computations import evaluation_w2v as ev\n",
    "from code.preprocessing import load_data as ld\n",
    "import os\n",
    "import pandas as pd\n",
    "from gensim.models import Word2Vec\n",
    "import optuna"
   ],
   "id": "ab22a714102ce83c",
   "outputs": [],
   "execution_count": 26
  },
  {
   "metadata": {
    "ExecuteTime": {
     "end_time": "2025-04-19T12:35:34.283423Z",
     "start_time": "2025-04-19T12:35:34.252186Z"
    }
   },
   "cell_type": "code",
   "source": [
    "os.chdir(r\"C:/BA_thesis/BA_v2_31.03\")\n",
    "\n",
    "print(f\"working directory: {os.getcwd()}\")\n",
    "input_path = os.getcwd() + '/files/corpus_data'\n",
    "\n",
    "corpus = ld.TxtSubdirsCorpus(\"files/dfs\")"
   ],
   "id": "fc79c49910394f0",
   "outputs": [
    {
     "name": "stdout",
     "output_type": "stream",
     "text": [
      "working directory: C:\\BA_thesis\\BA_v2_31.03\n",
      "Corpus active! Path: files/dfs \n",
      "\n"
     ]
    }
   ],
   "execution_count": 3
  },
  {
   "metadata": {
    "ExecuteTime": {
     "end_time": "2025-04-19T13:29:47.970806Z",
     "start_time": "2025-04-19T13:29:47.939563Z"
    }
   },
   "cell_type": "code",
   "source": [
    "import matplotlib.pyplot as plt\n",
    "import seaborn as sns\n",
    "def print_w2v_evalutaion_results(df: pd.DataFrame, external_sim_score: str, internal_sim_score: str, model_name: str):\n",
    "    # the best model is the first one\n",
    "\n",
    "    ess = external_sim_score\n",
    "    print(f\"ess: {ess}\")\n",
    "    iss = internal_sim_score\n",
    "    print(f\"iss: {iss}\")\n",
    "    sns.set_theme(style=\"ticks\")\n",
    "\n",
    "    plt.figure(figsize=(8, 6))\n",
    "    sns.scatterplot(data=df,\n",
    "                    x=iss,\n",
    "                    y=ess,\n",
    "                    hue=model_name,\n",
    "                    palette=\"hls\",\n",
    "                    s=100,\n",
    "                    alpha=0.8,\n",
    "                    legend=False)\n",
    "\n",
    "    best_row = df.iloc[0]\n",
    "    second_row = df.iloc[1]\n",
    "    third_row = df.iloc[2]\n",
    "\n",
    "    rows = [best_row, second_row, third_row]\n",
    "    for row in rows:\n",
    "        plt.scatter(row[iss],\n",
    "                    row[ess],\n",
    "                    s=90,\n",
    "                    edgecolor='black',\n",
    "                    facecolor='red',\n",
    "                    linewidth=1)\n",
    "\n",
    "        plt.text(row[iss] + 0.005,\n",
    "                 row[ess] - 0.0005,\n",
    "                 f\"{row[model_name]}\",\n",
    "                 fontsize=9,\n",
    "                 color='black')\n",
    "\n",
    "    plt.title(\"Evaluation Results\", fontsize=14, fontweight=\"bold\")\n",
    "    plt.xlabel(\"Mean similarity score for chosen word-pairs\", fontsize=12, fontweight=\"bold\")\n",
    "    plt.ylabel(\"Accuracy score computed with Google test-set\", fontsize=12, fontweight=\"bold\")\n",
    "    # plt.legend(title=\"Model\", loc='best', prop={'size': 8})\n",
    "    plt.tight_layout()\n",
    "    plt.show()"
   ],
   "id": "60cfe288c60f130d",
   "outputs": [],
   "execution_count": 35
  },
  {
   "metadata": {
    "ExecuteTime": {
     "end_time": "2025-04-19T12:37:31.513815Z",
     "start_time": "2025-04-19T12:35:57.134781Z"
    }
   },
   "cell_type": "code",
   "outputs": [
    {
     "name": "stderr",
     "output_type": "stream",
     "text": [
      "[I 2025-04-19 14:35:57,150] A new study created in memory with name: w2v_optimization\n"
     ]
    },
    {
     "name": "stdout",
     "output_type": "stream",
     "text": [
      "\n",
      "Training of w2e104sg0v115 has started.\n"
     ]
    },
    {
     "name": "stderr",
     "output_type": "stream",
     "text": [
      "[I 2025-04-19 14:36:24,424] Trial 0 finished with values: [0.10800018161535263, 0.0] and parameters: {'window': 2, 'epochs': 104, 'sg': 0, 'vector_size': 115}.\n"
     ]
    },
    {
     "name": "stdout",
     "output_type": "stream",
     "text": [
      "Model [Word2Vec<vocab=3386, vector_size=115, alpha=0.025>] was evaluated:\n",
      "Custom similarity score: 0.10800018161535263\n",
      "External accuracy: 0.0\n",
      "\n",
      "Training of w3e149sg0v116 has started.\n"
     ]
    },
    {
     "name": "stderr",
     "output_type": "stream",
     "text": [
      "[I 2025-04-19 14:36:57,722] Trial 1 finished with values: [0.048588138073682785, 0.025] and parameters: {'window': 3, 'epochs': 149, 'sg': 0, 'vector_size': 116}.\n"
     ]
    },
    {
     "name": "stdout",
     "output_type": "stream",
     "text": [
      "Model [Word2Vec<vocab=3386, vector_size=116, alpha=0.025>] was evaluated:\n",
      "Custom similarity score: 0.048588138073682785\n",
      "External accuracy: 0.025\n",
      "\n",
      "Training of w2e147sg0v115 has started.\n"
     ]
    },
    {
     "name": "stderr",
     "output_type": "stream",
     "text": [
      "[I 2025-04-19 14:37:31,498] Trial 2 finished with values: [0.10274393111467361, 0.0125] and parameters: {'window': 2, 'epochs': 147, 'sg': 0, 'vector_size': 115}.\n"
     ]
    },
    {
     "name": "stdout",
     "output_type": "stream",
     "text": [
      "Model [Word2Vec<vocab=3386, vector_size=115, alpha=0.025>] was evaluated:\n",
      "Custom similarity score: 0.10274393111467361\n",
      "External accuracy: 0.0125\n"
     ]
    }
   ],
   "execution_count": 4,
   "source": [
    "def train_w2v_models(trial):\n",
    "    window = trial.suggest_int(\"window\", 2, 3)\n",
    "    epochs = trial.suggest_int(\"epochs\", 100, 150)\n",
    "    sg = trial.suggest_int(\"sg\", 0, 1)\n",
    "    vector_size = trial.suggest_int(\"vector_size\", 100, 120)\n",
    "    print(f'\\nTraining of w{window}e{epochs}sg{sg}v{vector_size} has started.')\n",
    "    w2v = Word2Vec(\n",
    "        sentences=corpus,\n",
    "        window=window,\n",
    "        min_count=5,\n",
    "        epochs=epochs,\n",
    "        sg=sg,\n",
    "        vector_size=vector_size\n",
    "    )\n",
    "\n",
    "    e = ev.evaluate_model(w2v,\n",
    "                          ev_file='files/google.txt',\n",
    "                          test_words=[('good', 'bad'), ('game', 'theory')])\n",
    "\n",
    "    return e\n",
    "\n",
    "\n",
    "study = optuna.create_study(directions=[\"maximize\", \"maximize\"],\n",
    "                            study_name='w2v_optimization')\n",
    "study.optimize(train_w2v_models, n_trials=3)"
   ],
   "id": "b33ddd4e5d81257f"
  },
  {
   "metadata": {
    "ExecuteTime": {
     "end_time": "2025-04-19T13:29:53.775591Z",
     "start_time": "2025-04-19T13:29:53.697420Z"
    }
   },
   "cell_type": "code",
   "source": [
    "trial = study.best_trials\n",
    "df = study.trials_dataframe()\n",
    "df.rename(columns={'values_0': 'custom_sim_score', 'values_1': 'external_accuracy'}, inplace=True)\n",
    "df['model_name'] = 'w' + str(df['params_window'][0]) + 'e' + str(df['params_epochs'][0]) + 'sg' + str(df['params_sg'][0]) + 'v' + str(df['params_vector_size'][0])\n",
    "df.head()"
   ],
   "id": "ea372e8ddf577219",
   "outputs": [
    {
     "data": {
      "text/plain": [
       "   number  custom_sim_score  external_accuracy             datetime_start  \\\n",
       "0       0          0.108000             0.0000 2025-04-19 14:35:57.150403   \n",
       "1       1          0.048588             0.0250 2025-04-19 14:36:24.425840   \n",
       "2       2          0.102744             0.0125 2025-04-19 14:36:57.722166   \n",
       "\n",
       "           datetime_complete               duration  params_epochs  params_sg  \\\n",
       "0 2025-04-19 14:36:24.424841 0 days 00:00:27.274438            104          0   \n",
       "1 2025-04-19 14:36:57.722166 0 days 00:00:33.296326            149          0   \n",
       "2 2025-04-19 14:37:31.498195 0 days 00:00:33.776029            147          0   \n",
       "\n",
       "   params_vector_size  params_window  system_attrs_NSGAIISampler:generation  \\\n",
       "0                 115              2                                      0   \n",
       "1                 116              3                                      0   \n",
       "2                 115              2                                      0   \n",
       "\n",
       "      state     model_name  \n",
       "0  COMPLETE  w2e104sg0v115  \n",
       "1  COMPLETE  w2e104sg0v115  \n",
       "2  COMPLETE  w2e104sg0v115  "
      ],
      "text/html": [
       "<div>\n",
       "<style scoped>\n",
       "    .dataframe tbody tr th:only-of-type {\n",
       "        vertical-align: middle;\n",
       "    }\n",
       "\n",
       "    .dataframe tbody tr th {\n",
       "        vertical-align: top;\n",
       "    }\n",
       "\n",
       "    .dataframe thead th {\n",
       "        text-align: right;\n",
       "    }\n",
       "</style>\n",
       "<table border=\"1\" class=\"dataframe\">\n",
       "  <thead>\n",
       "    <tr style=\"text-align: right;\">\n",
       "      <th></th>\n",
       "      <th>number</th>\n",
       "      <th>custom_sim_score</th>\n",
       "      <th>external_accuracy</th>\n",
       "      <th>datetime_start</th>\n",
       "      <th>datetime_complete</th>\n",
       "      <th>duration</th>\n",
       "      <th>params_epochs</th>\n",
       "      <th>params_sg</th>\n",
       "      <th>params_vector_size</th>\n",
       "      <th>params_window</th>\n",
       "      <th>system_attrs_NSGAIISampler:generation</th>\n",
       "      <th>state</th>\n",
       "      <th>model_name</th>\n",
       "    </tr>\n",
       "  </thead>\n",
       "  <tbody>\n",
       "    <tr>\n",
       "      <th>0</th>\n",
       "      <td>0</td>\n",
       "      <td>0.108000</td>\n",
       "      <td>0.0000</td>\n",
       "      <td>2025-04-19 14:35:57.150403</td>\n",
       "      <td>2025-04-19 14:36:24.424841</td>\n",
       "      <td>0 days 00:00:27.274438</td>\n",
       "      <td>104</td>\n",
       "      <td>0</td>\n",
       "      <td>115</td>\n",
       "      <td>2</td>\n",
       "      <td>0</td>\n",
       "      <td>COMPLETE</td>\n",
       "      <td>w2e104sg0v115</td>\n",
       "    </tr>\n",
       "    <tr>\n",
       "      <th>1</th>\n",
       "      <td>1</td>\n",
       "      <td>0.048588</td>\n",
       "      <td>0.0250</td>\n",
       "      <td>2025-04-19 14:36:24.425840</td>\n",
       "      <td>2025-04-19 14:36:57.722166</td>\n",
       "      <td>0 days 00:00:33.296326</td>\n",
       "      <td>149</td>\n",
       "      <td>0</td>\n",
       "      <td>116</td>\n",
       "      <td>3</td>\n",
       "      <td>0</td>\n",
       "      <td>COMPLETE</td>\n",
       "      <td>w2e104sg0v115</td>\n",
       "    </tr>\n",
       "    <tr>\n",
       "      <th>2</th>\n",
       "      <td>2</td>\n",
       "      <td>0.102744</td>\n",
       "      <td>0.0125</td>\n",
       "      <td>2025-04-19 14:36:57.722166</td>\n",
       "      <td>2025-04-19 14:37:31.498195</td>\n",
       "      <td>0 days 00:00:33.776029</td>\n",
       "      <td>147</td>\n",
       "      <td>0</td>\n",
       "      <td>115</td>\n",
       "      <td>2</td>\n",
       "      <td>0</td>\n",
       "      <td>COMPLETE</td>\n",
       "      <td>w2e104sg0v115</td>\n",
       "    </tr>\n",
       "  </tbody>\n",
       "</table>\n",
       "</div>"
      ]
     },
     "execution_count": 36,
     "metadata": {},
     "output_type": "execute_result"
    }
   ],
   "execution_count": 36
  },
  {
   "metadata": {
    "ExecuteTime": {
     "end_time": "2025-04-19T13:29:56.413778Z",
     "start_time": "2025-04-19T13:29:55.900724Z"
    }
   },
   "cell_type": "code",
   "source": [
    "print_w2v_evalutaion_results(df=df,\n",
    "                             external_sim_score='external_accuracy',\n",
    "                             internal_sim_score='custom_sim_score',\n",
    "                             model_name='model_name')"
   ],
   "id": "ceb38a67e1d5d590",
   "outputs": [
    {
     "name": "stdout",
     "output_type": "stream",
     "text": [
      "ess: external_accuracy\n",
      "iss: custom_sim_score\n"
     ]
    },
    {
     "data": {
      "text/plain": [
       "<Figure size 800x600 with 1 Axes>"
      ],
      "image/png": "[encoded data removed]"
     },
     "metadata": {},
     "output_type": "display_data"
    }
   ],
   "execution_count": 37
  }
 ],
 "metadata": {
  "kernelspec": {
   "display_name": "Python 3",
   "language": "python",
   "name": "python3"
  },
  "language_info": {
   "codemirror_mode": {
    "name": "ipython",
    "version": 2
   },
   "file_extension": ".py",
   "mimetype": "text/x-python",
   "name": "python",
   "nbconvert_exporter": "python",
   "pygments_lexer": "ipython2",
   "version": "2.7.6"
  }
 },
 "nbformat": 4,
 "nbformat_minor": 5
}
