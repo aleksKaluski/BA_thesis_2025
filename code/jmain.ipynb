{
 "cells": [
  {
   "cell_type": "code",
   "id": "initial_id",
   "metadata": {
    "collapsed": true,
    "ExecuteTime": {
     "end_time": "2025-04-19T12:25:10.074493Z",
     "start_time": "2025-04-19T12:25:10.027629Z"
    }
   },
   "source": "print('hello world')",
   "outputs": [
    {
     "name": "stdout",
     "output_type": "stream",
     "text": [
      "hello world\n"
     ]
    }
   ],
   "execution_count": 1
  },
  {
   "metadata": {
    "ExecuteTime": {
     "end_time": "2025-04-19T18:00:07.040028Z",
     "start_time": "2025-04-19T18:00:07.008787Z"
    }
   },
   "cell_type": "code",
   "source": [
    "from code.computations import evaluation_w2v as ev\n",
    "from code.preprocessing import load_data as ld\n",
    "import os\n",
    "import pandas as pd\n",
    "from gensim.models import Word2Vec\n",
    "import optuna"
   ],
   "id": "ab22a714102ce83c",
   "outputs": [],
   "execution_count": 66
  },
  {
   "metadata": {
    "ExecuteTime": {
     "end_time": "2025-04-19T18:00:08.478399Z",
     "start_time": "2025-04-19T18:00:08.447149Z"
    }
   },
   "cell_type": "code",
   "source": [
    "os.chdir(r\"C:/BA_thesis/BA_v2_31.03\")\n",
    "\n",
    "print(f\"working directory: {os.getcwd()}\")\n",
    "input_path = os.getcwd() + '/files/corpus_data'\n",
    "\n",
    "corpus = ld.TxtSubdirsCorpus(\"files/dfs\")"
   ],
   "id": "fc79c49910394f0",
   "outputs": [
    {
     "name": "stdout",
     "output_type": "stream",
     "text": [
      "working directory: C:\\BA_thesis\\BA_v2_31.03\n",
      "Corpus active! Path: files/dfs \n",
      "\n"
     ]
    }
   ],
   "execution_count": 67
  },
  {
   "metadata": {
    "ExecuteTime": {
     "end_time": "2025-04-19T18:03:12.674518Z",
     "start_time": "2025-04-19T18:03:12.612031Z"
    }
   },
   "cell_type": "code",
   "source": [
    "# basic\n",
    "import os\n",
    "from pathlib import Path\n",
    "import pandas as pd\n",
    "\n",
    "# other files\n",
    "from code.preprocessing import load_data as ld\n",
    "from code.visual import visualization as vs\n",
    "\n",
    "# case-specific\n",
    "from gensim.models import Word2Vec\n",
    "import statistics\n",
    "from collections import defaultdict\n",
    "import optuna\n",
    "\n",
    "\"\"\"\n",
    "Evaluation and piccking the best word2v3c model\n",
    "\"\"\"\n",
    "\n",
    "\n",
    "def evaluation_with_file(model: Word2Vec, ev_file: str):\n",
    "    file_path = Path(ev_file)\n",
    "    assert file_path.is_file(), f\"You passed wrong file [{file_path}] in evaluation_with_file\"\n",
    "    result = model.wv.evaluate_word_analogies(ev_file)\n",
    "    return result[0]  # accuracy\n",
    "\n",
    "\n",
    "def evaluate_model(model: Word2Vec, ev_file: str, test_words: list):\n",
    "    \"\"\"\n",
    "    Evaluate single word2vec model\n",
    "    \"\"\"\n",
    "    acc = evaluation_with_file(model=model, ev_file=ev_file)\n",
    "    similarity_scores = []\n",
    "    for x in range(len(test_words)):\n",
    "        w1 = test_words[x][0]\n",
    "        w2 = test_words[x][1]\n",
    "\n",
    "        if w1 in model.wv.key_to_index and w2 in model.wv.key_to_index:\n",
    "            similarity_score = model.wv.similarity(*test_words[x])\n",
    "            similarity_scores.append(similarity_score)\n",
    "        else:\n",
    "            print(f\"Warning: Word {w1} or {w2} not found in the model vocabulary.\")\n",
    "\n",
    "    if similarity_scores:\n",
    "        custom_sim_score = statistics.mean(similarity_scores)\n",
    "    else:\n",
    "        custom_sim_score = 0\n",
    "        print(f\"No similarity scores found for this model [{model}]. avg_score: {custom_sim_score} \")\n",
    "    return custom_sim_score, acc\n",
    "\n",
    "\n",
    "def find_best_params_w2v(corpus, n_trials: int):\n",
    "    def train_w2v_models(trial):\n",
    "        window = trial.suggest_int(\"window\", 2, 3)\n",
    "        epochs = trial.suggest_int(\"epochs\", 100, 150)\n",
    "        sg = trial.suggest_int(\"sg\", 0, 1)\n",
    "        vector_size = trial.suggest_int(\"vector_size\", 100, 120)\n",
    "        print(f'\\nTraining of w{window}e{epochs}sg{sg}v{vector_size} has started.')\n",
    "        \n",
    "        w2v = Word2Vec(\n",
    "            sentences=corpus,\n",
    "            window=window,\n",
    "            min_count=5,\n",
    "            epochs=epochs,\n",
    "            sg=sg,\n",
    "            vector_size=vector_size\n",
    "        )\n",
    "        result = evaluate_model(w2v,\n",
    "                                ev_file='files/google.txt',\n",
    "                                test_words=[('good', 'bad'), ('game', 'theory')])\n",
    "        return result\n",
    "\n",
    "\n",
    "    study = optuna.create_study(directions=[\"maximize\", \"maximize\"],\n",
    "                                study_name='w2v_optimization')\n",
    "\n",
    "    study.optimize(train_w2v_models,\n",
    "                   n_trials=n_trials)\n",
    "\n",
    "    ev_metric = study.trials_dataframe()\n",
    "    ev_metric.rename(columns={'values_0': 'custom_sim_score', 'values_1': 'external_accuracy'}, inplace=True)\n",
    "    ev_metric['model_name'] = (\n",
    "            'w' + ev_metric['params_window'].astype(str) +\n",
    "            'e' + ev_metric['params_epochs'].astype(str)  +\n",
    "            'sg' + ev_metric['params_sg'].astype(str)  +\n",
    "            'v' + ev_metric['params_vector_size'].astype(str) )\n",
    "    return ev_metric\n",
    "\n",
    "\n"
   ],
   "id": "d1d0bb6fbd06d1a8",
   "outputs": [],
   "execution_count": 72
  },
  {
   "metadata": {
    "ExecuteTime": {
     "end_time": "2025-04-19T18:03:16.970224Z",
     "start_time": "2025-04-19T18:03:16.938982Z"
    }
   },
   "cell_type": "code",
   "source": [
    "import matplotlib.pyplot as plt\n",
    "import seaborn as sns\n",
    "def print_w2v_evalutaion_results(df: pd.DataFrame, external_sim_score: str, internal_sim_score: str, model_name: str):\n",
    "    # the best model is the first one\n",
    "    df = df.sort_values(by=[external_sim_score, internal_sim_score], ascending=False)\n",
    "\n",
    "    ess = external_sim_score\n",
    "    print(f\"ess: {ess}\")\n",
    "    iss = internal_sim_score\n",
    "    print(f\"iss: {iss}\")\n",
    "    sns.set_theme(style=\"ticks\")\n",
    "\n",
    "    plt.figure(figsize=(8, 6))\n",
    "    sns.scatterplot(data=df,\n",
    "                    x=iss,\n",
    "                    y=ess,\n",
    "                    hue=model_name,\n",
    "                    palette=\"hls\",\n",
    "                    s=100,\n",
    "                    alpha=0.8,\n",
    "                    legend=False)\n",
    "\n",
    "    best_row = df.iloc[0]\n",
    "    second_row = df.iloc[1]\n",
    "    third_row = df.iloc[2]\n",
    "\n",
    "    rows = [best_row, second_row, third_row]\n",
    "    for row in rows:\n",
    "        plt.scatter(row[iss],\n",
    "                    row[ess],\n",
    "                    s=90,\n",
    "                    edgecolor='black',\n",
    "                    facecolor='red',\n",
    "                    linewidth=1)\n",
    "\n",
    "        plt.text(row[iss] + 0.005,\n",
    "                 row[ess] - 0.0005,\n",
    "                 f\"{row[model_name]}\",\n",
    "                 fontsize=9,\n",
    "                 color='black')\n",
    "\n",
    "    plt.title(\"Evaluation Results\", fontsize=14, fontweight=\"bold\")\n",
    "    plt.xlabel(\"Mean similarity score for chosen word-pairs\", fontsize=12, fontweight=\"bold\")\n",
    "    plt.ylabel(\"Accuracy score computed with Google test-set\", fontsize=12, fontweight=\"bold\")\n",
    "    # plt.legend(title=\"Model\", loc='best', prop={'size': 8})\n",
    "    plt.tight_layout()\n",
    "    plt.show()"
   ],
   "id": "b004cdfbdcefb18f",
   "outputs": [],
   "execution_count": 73
  },
  {
   "metadata": {
    "ExecuteTime": {
     "end_time": "2025-04-19T18:05:40.550941Z",
     "start_time": "2025-04-19T18:03:23.816772Z"
    }
   },
   "cell_type": "code",
   "source": [
    "ev_metric = find_best_params_w2v(corpus=corpus,\n",
    "                                n_trials=4)\n"
   ],
   "id": "66e6e9031e371a94",
   "outputs": [
    {
     "name": "stderr",
     "output_type": "stream",
     "text": [
      "[I 2025-04-19 20:03:23,832] A new study created in memory with name: w2v_optimization\n"
     ]
    },
    {
     "name": "stdout",
     "output_type": "stream",
     "text": [
      "\n",
      "Training of w3e109sg0v114 has started.\n"
     ]
    },
    {
     "name": "stderr",
     "output_type": "stream",
     "text": [
      "[I 2025-04-19 20:04:02,264] Trial 0 finished with values: [0.05367255583405495, 0.025] and parameters: {'window': 3, 'epochs': 109, 'sg': 0, 'vector_size': 114}.\n"
     ]
    },
    {
     "name": "stdout",
     "output_type": "stream",
     "text": [
      "\n",
      "Training of w3e126sg0v120 has started.\n"
     ]
    },
    {
     "name": "stderr",
     "output_type": "stream",
     "text": [
      "[I 2025-04-19 20:04:34,273] Trial 1 finished with values: [0.05201486498117447, 0.0] and parameters: {'window': 3, 'epochs': 126, 'sg': 0, 'vector_size': 120}.\n"
     ]
    },
    {
     "name": "stdout",
     "output_type": "stream",
     "text": [
      "\n",
      "Training of w3e125sg0v100 has started.\n"
     ]
    },
    {
     "name": "stderr",
     "output_type": "stream",
     "text": [
      "[I 2025-04-19 20:05:02,525] Trial 2 finished with values: [0.04415681213140488, 0.0125] and parameters: {'window': 3, 'epochs': 125, 'sg': 0, 'vector_size': 100}.\n"
     ]
    },
    {
     "name": "stdout",
     "output_type": "stream",
     "text": [
      "\n",
      "Training of w3e101sg1v101 has started.\n"
     ]
    },
    {
     "name": "stderr",
     "output_type": "stream",
     "text": [
      "[I 2025-04-19 20:05:40,457] Trial 3 finished with values: [0.3124766945838928, 0.0375] and parameters: {'window': 3, 'epochs': 101, 'sg': 1, 'vector_size': 101}.\n"
     ]
    }
   ],
   "execution_count": 74
  },
  {
   "metadata": {
    "ExecuteTime": {
     "end_time": "2025-04-19T18:05:45.388106Z",
     "start_time": "2025-04-19T18:05:45.283888Z"
    }
   },
   "cell_type": "code",
   "source": "ev_metric",
   "id": "4deafa2ff8a7e3b8",
   "outputs": [
    {
     "data": {
      "text/plain": [
       "   number  custom_sim_score  external_accuracy             datetime_start  \\\n",
       "0       0          0.053673             0.0250 2025-04-19 20:03:23.848014   \n",
       "1       1          0.052015             0.0000 2025-04-19 20:04:02.264002   \n",
       "2       2          0.044157             0.0125 2025-04-19 20:04:34.273080   \n",
       "3       3          0.312477             0.0375 2025-04-19 20:05:02.525070   \n",
       "\n",
       "           datetime_complete               duration  params_epochs  params_sg  \\\n",
       "0 2025-04-19 20:04:02.264002 0 days 00:00:38.415988            109          0   \n",
       "1 2025-04-19 20:04:34.273080 0 days 00:00:32.009078            126          0   \n",
       "2 2025-04-19 20:05:02.525070 0 days 00:00:28.251990            125          0   \n",
       "3 2025-04-19 20:05:40.457217 0 days 00:00:37.932147            101          1   \n",
       "\n",
       "   params_vector_size  params_window  system_attrs_NSGAIISampler:generation  \\\n",
       "0                 114              3                                      0   \n",
       "1                 120              3                                      0   \n",
       "2                 100              3                                      0   \n",
       "3                 101              3                                      0   \n",
       "\n",
       "      state     model_name  \n",
       "0  COMPLETE  w3e109sg0v114  \n",
       "1  COMPLETE  w3e126sg0v120  \n",
       "2  COMPLETE  w3e125sg0v100  \n",
       "3  COMPLETE  w3e101sg1v101  "
      ],
      "text/html": [
       "<div>\n",
       "<style scoped>\n",
       "    .dataframe tbody tr th:only-of-type {\n",
       "        vertical-align: middle;\n",
       "    }\n",
       "\n",
       "    .dataframe tbody tr th {\n",
       "        vertical-align: top;\n",
       "    }\n",
       "\n",
       "    .dataframe thead th {\n",
       "        text-align: right;\n",
       "    }\n",
       "</style>\n",
       "<table border=\"1\" class=\"dataframe\">\n",
       "  <thead>\n",
       "    <tr style=\"text-align: right;\">\n",
       "      <th></th>\n",
       "      <th>number</th>\n",
       "      <th>custom_sim_score</th>\n",
       "      <th>external_accuracy</th>\n",
       "      <th>datetime_start</th>\n",
       "      <th>datetime_complete</th>\n",
       "      <th>duration</th>\n",
       "      <th>params_epochs</th>\n",
       "      <th>params_sg</th>\n",
       "      <th>params_vector_size</th>\n",
       "      <th>params_window</th>\n",
       "      <th>system_attrs_NSGAIISampler:generation</th>\n",
       "      <th>state</th>\n",
       "      <th>model_name</th>\n",
       "    </tr>\n",
       "  </thead>\n",
       "  <tbody>\n",
       "    <tr>\n",
       "      <th>0</th>\n",
       "      <td>0</td>\n",
       "      <td>0.053673</td>\n",
       "      <td>0.0250</td>\n",
       "      <td>2025-04-19 20:03:23.848014</td>\n",
       "      <td>2025-04-19 20:04:02.264002</td>\n",
       "      <td>0 days 00:00:38.415988</td>\n",
       "      <td>109</td>\n",
       "      <td>0</td>\n",
       "      <td>114</td>\n",
       "      <td>3</td>\n",
       "      <td>0</td>\n",
       "      <td>COMPLETE</td>\n",
       "      <td>w3e109sg0v114</td>\n",
       "    </tr>\n",
       "    <tr>\n",
       "      <th>1</th>\n",
       "      <td>1</td>\n",
       "      <td>0.052015</td>\n",
       "      <td>0.0000</td>\n",
       "      <td>2025-04-19 20:04:02.264002</td>\n",
       "      <td>2025-04-19 20:04:34.273080</td>\n",
       "      <td>0 days 00:00:32.009078</td>\n",
       "      <td>126</td>\n",
       "      <td>0</td>\n",
       "      <td>120</td>\n",
       "      <td>3</td>\n",
       "      <td>0</td>\n",
       "      <td>COMPLETE</td>\n",
       "      <td>w3e126sg0v120</td>\n",
       "    </tr>\n",
       "    <tr>\n",
       "      <th>2</th>\n",
       "      <td>2</td>\n",
       "      <td>0.044157</td>\n",
       "      <td>0.0125</td>\n",
       "      <td>2025-04-19 20:04:34.273080</td>\n",
       "      <td>2025-04-19 20:05:02.525070</td>\n",
       "      <td>0 days 00:00:28.251990</td>\n",
       "      <td>125</td>\n",
       "      <td>0</td>\n",
       "      <td>100</td>\n",
       "      <td>3</td>\n",
       "      <td>0</td>\n",
       "      <td>COMPLETE</td>\n",
       "      <td>w3e125sg0v100</td>\n",
       "    </tr>\n",
       "    <tr>\n",
       "      <th>3</th>\n",
       "      <td>3</td>\n",
       "      <td>0.312477</td>\n",
       "      <td>0.0375</td>\n",
       "      <td>2025-04-19 20:05:02.525070</td>\n",
       "      <td>2025-04-19 20:05:40.457217</td>\n",
       "      <td>0 days 00:00:37.932147</td>\n",
       "      <td>101</td>\n",
       "      <td>1</td>\n",
       "      <td>101</td>\n",
       "      <td>3</td>\n",
       "      <td>0</td>\n",
       "      <td>COMPLETE</td>\n",
       "      <td>w3e101sg1v101</td>\n",
       "    </tr>\n",
       "  </tbody>\n",
       "</table>\n",
       "</div>"
      ]
     },
     "execution_count": 75,
     "metadata": {},
     "output_type": "execute_result"
    }
   ],
   "execution_count": 75
  },
  {
   "metadata": {
    "ExecuteTime": {
     "end_time": "2025-04-19T18:05:56.458835Z",
     "start_time": "2025-04-19T18:05:55.908339Z"
    }
   },
   "cell_type": "code",
   "source": [
    "print_w2v_evalutaion_results(df=ev_metric,\n",
    "                                    external_sim_score='external_accuracy',\n",
    "                                    internal_sim_score='custom_sim_score',\n",
    "                                    model_name='model_name')"
   ],
   "id": "4b98d4daad9ee227",
   "outputs": [
    {
     "name": "stdout",
     "output_type": "stream",
     "text": [
      "ess: external_accuracy\n",
      "iss: custom_sim_score\n"
     ]
    },
    {
     "data": {
      "text/plain": [
       "<Figure size 800x600 with 1 Axes>"
      ],
      "image/png": "[encoded data removed]"
     },
     "metadata": {},
     "output_type": "display_data"
    }
   ],
   "execution_count": 76
  },
  {
   "metadata": {
    "ExecuteTime": {
     "end_time": "2025-04-19T18:15:38.427124Z",
     "start_time": "2025-04-19T18:15:38.395852Z"
    }
   },
   "cell_type": "code",
   "source": [
    "def get_best_params(df: pd.DataFrame, external_sim_score: str, internal_sim_score: str):\n",
    "    df = df.sort_values(by=[external_sim_score, internal_sim_score], ascending=False)\n",
    "    best_params = df.iloc[0]\n",
    "    return best_params\n"
   ],
   "id": "8af975635d9b0661",
   "outputs": [],
   "execution_count": 88
  },
  {
   "metadata": {
    "ExecuteTime": {
     "end_time": "2025-04-19T18:16:59.352063Z",
     "start_time": "2025-04-19T18:16:26.752042Z"
    }
   },
   "cell_type": "code",
   "source": [
    "best_params = get_best_params(df=ev_metric,\n",
    "                   external_sim_score='external_accuracy', \n",
    "                   internal_sim_score='custom_sim_score')\n",
    "epochs = best_params['params_epochs']\n",
    "sg = best_params['params_sg']\n",
    "vector_size = best_params['params_vector_size']\n",
    "window = best_params['params_window']\n",
    "\n",
    "model = Word2Vec(\n",
    "        sentences=corpus,\n",
    "        window=window,\n",
    "        min_count=5,\n",
    "        epochs=epochs,\n",
    "        sg=sg,\n",
    "        vector_size=vector_size\n",
    "        )\n"
   ],
   "id": "21c5ed7a392f9778",
   "outputs": [
    {
     "name": "stdout",
     "output_type": "stream",
     "text": [
      "best params: number                                                            3\n",
      "custom_sim_score                                           0.312477\n",
      "external_accuracy                                            0.0375\n",
      "datetime_start                           2025-04-19 20:05:02.525070\n",
      "datetime_complete                        2025-04-19 20:05:40.457217\n",
      "duration                                     0 days 00:00:37.932147\n",
      "params_epochs                                                   101\n",
      "params_sg                                                         1\n",
      "params_vector_size                                              101\n",
      "params_window                                                     3\n",
      "system_attrs_NSGAIISampler:generation                             0\n",
      "state                                                      COMPLETE\n",
      "model_name                                            w3e101sg1v101\n",
      "Name: 3, dtype: object\n"
     ]
    }
   ],
   "execution_count": 90
  }
 ],
 "metadata": {
  "kernelspec": {
   "display_name": "Python 3",
   "language": "python",
   "name": "python3"
  },
  "language_info": {
   "codemirror_mode": {
    "name": "ipython",
    "version": 2
   },
   "file_extension": ".py",
   "mimetype": "text/x-python",
   "name": "python",
   "nbconvert_exporter": "python",
   "pygments_lexer": "ipython2",
   "version": "2.7.6"
  }
 },
 "nbformat": 4,
 "nbformat_minor": 5
}
